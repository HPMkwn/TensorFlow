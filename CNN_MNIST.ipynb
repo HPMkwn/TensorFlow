{
  "nbformat": 4,
  "nbformat_minor": 0,
  "metadata": {
    "colab": {
      "name": "CNN_MNIST.ipynb",
      "provenance": [],
      "include_colab_link": true
    },
    "kernelspec": {
      "name": "python3",
      "display_name": "Python 3"
    }
  },
  "cells": [
    {
      "cell_type": "markdown",
      "metadata": {
        "id": "view-in-github",
        "colab_type": "text"
      },
      "source": [
        "<a href=\"https://colab.research.google.com/github/harrymkwn/TensorFlow/blob/master/CNN_MNIST.ipynb\" target=\"_parent\"><img src=\"https://colab.research.google.com/assets/colab-badge.svg\" alt=\"Open In Colab\"/></a>"
      ]
    },
    {
      "cell_type": "code",
      "metadata": {
        "id": "39N4E9RR5y7V",
        "colab_type": "code",
        "colab": {}
      },
      "source": [
        "import tensorflow.compat.v1 as tf\n",
        "from tensorflow.examples.tutorials.mnist import input_data\n",
        "import numpy as np\n",
        "import matplotlib.pyplot as plt"
      ],
      "execution_count": 0,
      "outputs": []
    },
    {
      "cell_type": "code",
      "metadata": {
        "id": "V9IzFI7R57yM",
        "colab_type": "code",
        "colab": {}
      },
      "source": [
        "tf.set_random_seed(1)\n",
        "np.random.seed(1)\n"
      ],
      "execution_count": 0,
      "outputs": []
    },
    {
      "cell_type": "code",
      "metadata": {
        "id": "8mC0Zt9w6HmG",
        "colab_type": "code",
        "colab": {}
      },
      "source": [
        "BATCH_SIZE = 50\n",
        "LR = 0.001 "
      ],
      "execution_count": 0,
      "outputs": []
    },
    {
      "cell_type": "code",
      "metadata": {
        "id": "lt6dK9E96K-V",
        "colab_type": "code",
        "colab": {}
      },
      "source": [
        "mnist = input_data.read_data_sets('./mnist', one_hot=True)  # they has been normalized to range (0,1)\n",
        "test_x = mnist.test.images[:2000]\n",
        "test_y = mnist.test.labels[:2000]"
      ],
      "execution_count": 0,
      "outputs": []
    },
    {
      "cell_type": "code",
      "metadata": {
        "id": "5vnDWst66Sn2",
        "colab_type": "code",
        "outputId": "15f731e4-6289-4c59-dd2f-e345c67b5b6c",
        "colab": {
          "base_uri": "https://localhost:8080/",
          "height": 51
        }
      },
      "source": [
        "print(mnist.train.images.shape)     # (55000, 28 * 28)\n",
        "print(mnist.train.labels.shape) "
      ],
      "execution_count": 5,
      "outputs": [
        {
          "output_type": "stream",
          "text": [
            "(55000, 784)\n",
            "(55000, 10)\n"
          ],
          "name": "stdout"
        }
      ]
    },
    {
      "cell_type": "code",
      "metadata": {
        "id": "Jzc5mcvJ61Ja",
        "colab_type": "code",
        "outputId": "1d068563-7961-4ccc-f695-6f6e30f0a1ee",
        "colab": {
          "base_uri": "https://localhost:8080/",
          "height": 281
        }
      },
      "source": [
        "plt.imshow(mnist.train.images[0].reshape((28, 28)), cmap='gray')\n",
        "plt.title('%i' % np.argmax(mnist.train.labels[0])); plt.show()"
      ],
      "execution_count": 6,
      "outputs": [
        {
          "output_type": "display_data",
          "data": {
            "image/png": "[encoded data removed]",
            "text/plain": [
              "<Figure size 432x288 with 1 Axes>"
            ]
          },
          "metadata": {
            "tags": []
          }
        }
      ]
    },
    {
      "cell_type": "markdown",
      "metadata": {
        "id": "wn68eyfC7FeG",
        "colab_type": "text"
      },
      "source": [
        "#Graph of execution"
      ]
    },
    {
      "cell_type": "code",
      "metadata": {
        "id": "dt9VAazC64sQ",
        "colab_type": "code",
        "colab": {}
      },
      "source": [
        "tf_x = tf.placeholder(tf.float32, [None, 28*28]) / 255.\n",
        "image = tf.reshape(tf_x, [-1, 28, 28, 1])              # (batch, height, width, channel)\n",
        "tf_y = tf.placeholder(tf.int32, [None, 10]) "
      ],
      "execution_count": 0,
      "outputs": []
    },
    {
      "cell_type": "code",
      "metadata": {
        "id": "pUK4Za0y7I0I",
        "colab_type": "code",
        "colab": {}
      },
      "source": [
        "conv1 = tf.layers.conv2d(   # shape (28, 28, 1)\n",
        "    inputs=image,\n",
        "    filters=16,\n",
        "    kernel_size=5,\n",
        "    strides=1,\n",
        "    padding='same',\n",
        "    activation=tf.nn.relu\n",
        ")      # -> (28, 28, 16)\n",
        "pool1 = tf.layers.max_pooling2d(\n",
        "    conv1,\n",
        "    pool_size=2,\n",
        "    strides=2,\n",
        ")           # -> (14, 14, 16)\n",
        "conv2 = tf.layers.conv2d(pool1, 32, 5, 1, 'same', activation=tf.nn.relu)    # -> (14, 14, 32)\n",
        "pool2 = tf.layers.max_pooling2d(conv2, 2, 2)    # -> (7, 7, 32)\n",
        "flat = tf.reshape(pool2, [-1, 7*7*32])          # -> (7*7*32, )\n",
        "output = tf.layers.dense(flat, 10)  \n"
      ],
      "execution_count": 0,
      "outputs": []
    },
    {
      "cell_type": "code",
      "metadata": {
        "id": "6LrUdCcM8hM3",
        "colab_type": "code",
        "colab": {}
      },
      "source": [
        "loss = tf.losses.softmax_cross_entropy(onehot_labels=tf_y, logits=output)           # compute cost\n",
        "train_op = tf.train.AdamOptimizer(LR).minimize(loss)"
      ],
      "execution_count": 0,
      "outputs": []
    },
    {
      "cell_type": "code",
      "metadata": {
        "id": "8VJoeaI58orr",
        "colab_type": "code",
        "colab": {}
      },
      "source": [
        "accuracy = tf.metrics.accuracy(          # return (acc, update_op), and create 2 local variables\n",
        "    labels=tf.argmax(tf_y, axis=1), predictions=tf.argmax(output, axis=1),)[1]"
      ],
      "execution_count": 0,
      "outputs": []
    },
    {
      "cell_type": "code",
      "metadata": {
        "id": "A1JSDuav8y7h",
        "colab_type": "code",
        "colab": {}
      },
      "source": [
        "sess = tf.Session()\n",
        "init_op = tf.group(tf.global_variables_initializer(), tf.local_variables_initializer()) # the local var is for accuracy_op\n",
        "sess.run(init_op)  "
      ],
      "execution_count": 0,
      "outputs": []
    },
    {
      "cell_type": "code",
      "metadata": {
        "id": "SeLlJqAK9R0z",
        "colab_type": "code",
        "colab": {
          "base_uri": "https://localhost:8080/",
          "height": 255
        },
        "outputId": "e9bb5514-47f2-4e77-8b52-73e7418d8f9e"
      },
      "source": [
        "for step in range(600):\n",
        "    b_x, b_y = mnist.train.next_batch(BATCH_SIZE)\n",
        "    _, loss_ = sess.run([train_op, loss], {tf_x: b_x, tf_y: b_y})\n",
        "    if step % 50 == 0:\n",
        "        accuracy_, flat_representation = sess.run([accuracy, flat], {tf_x: test_x, tf_y: test_y})\n",
        "        print('Step:', step, '| train loss: %.4f' % loss_, '| test accuracy: %.2f' % accuracy_)\n",
        "\n",
        "test_output = sess.run(output, {tf_x: test_x[:10]})\n",
        "pred_y = np.argmax(test_output, 1)\n",
        "print(pred_y, 'prediction number')\n",
        "print(np.argmax(test_y[:10], 1), 'real number')"
      ],
      "execution_count": 16,
      "outputs": [
        {
          "output_type": "stream",
          "text": [
            "Step: 0 | train loss: 2.2858 | test accuracy: 0.17\n",
            "Step: 50 | train loss: 0.5606 | test accuracy: 0.49\n",
            "Step: 100 | train loss: 0.2875 | test accuracy: 0.62\n",
            "Step: 150 | train loss: 0.1069 | test accuracy: 0.69\n",
            "Step: 200 | train loss: 0.0593 | test accuracy: 0.74\n",
            "Step: 250 | train loss: 0.1741 | test accuracy: 0.77\n",
            "Step: 300 | train loss: 0.0992 | test accuracy: 0.80\n",
            "Step: 350 | train loss: 0.1140 | test accuracy: 0.82\n",
            "Step: 400 | train loss: 0.3941 | test accuracy: 0.83\n",
            "Step: 450 | train loss: 0.0794 | test accuracy: 0.84\n",
            "Step: 500 | train loss: 0.0260 | test accuracy: 0.86\n",
            "Step: 550 | train loss: 0.0865 | test accuracy: 0.86\n",
            "[7 2 1 0 4 1 4 9 5 9] prediction number\n",
            "[7 2 1 0 4 1 4 9 5 9] real number\n"
          ],
          "name": "stdout"
        }
      ]
    }
  ]
}