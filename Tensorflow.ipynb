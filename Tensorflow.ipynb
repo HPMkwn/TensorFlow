{
  "nbformat": 4,
  "nbformat_minor": 0,
  "metadata": {
    "colab": {
      "name": "Tensorflow.ipynb",
      "provenance": [],
      "toc_visible": true,
      "include_colab_link": true
    },
    "kernelspec": {
      "name": "python3",
      "display_name": "Python 3"
    }
  },
  "cells": [
    {
      "cell_type": "markdown",
      "metadata": {
        "id": "view-in-github",
        "colab_type": "text"
      },
      "source": [
        "<a href=\"https://colab.research.google.com/github/harrymkwn/TensorFlow/blob/master/Tensorflow.ipynb\" target=\"_parent\"><img src=\"https://colab.research.google.com/assets/colab-badge.svg\" alt=\"Open In Colab\"/></a>"
      ]
    },
    {
      "cell_type": "code",
      "metadata": {
        "id": "RUZkB5tMXt-Q",
        "colab_type": "code",
        "outputId": "f5850fe6-f938-4670-acce-9a63d40a3214",
        "colab": {
          "base_uri": "https://localhost:8080/",
          "height": 134
        }
      },
      "source": [
        "import numpy as np\n",
        "import matplotlib.pyplot as plt\n",
        "import tensorflow.compat.v1 as tf\n",
        "tf.disable_v2_behavior()"
      ],
      "execution_count": 2,
      "outputs": [
        {
          "output_type": "display_data",
          "data": {
            "text/html": [
              "<p style=\"color: red;\">\n",
              "The default version of TensorFlow in Colab will soon switch to TensorFlow 2.x.<br>\n",
              "We recommend you <a href=\"https://www.tensorflow.org/guide/migrate\" target=\"_blank\">upgrade</a> now \n",
              "or ensure your notebook will continue to use TensorFlow 1.x via the <code>%tensorflow_version 1.x</code> magic:\n",
              "<a href=\"https://colab.research.google.com/notebooks/tensorflow_version.ipynb\" target=\"_blank\">more info</a>.</p>\n"
            ],
            "text/plain": [
              "<IPython.core.display.HTML object>"
            ]
          },
          "metadata": {
            "tags": []
          }
        },
        {
          "output_type": "stream",
          "text": [
            "WARNING:tensorflow:From /usr/local/lib/python3.6/dist-packages/tensorflow_core/python/compat/v2_compat.py:68: disable_resource_variables (from tensorflow.python.ops.variable_scope) is deprecated and will be removed in a future version.\n",
            "Instructions for updating:\n",
            "non-resource variables are not supported in the long term\n"
          ],
          "name": "stdout"
        }
      ]
    },
    {
      "cell_type": "code",
      "metadata": {
        "id": "SxhXqlYw-Cpe",
        "colab_type": "code",
        "colab": {}
      },
      "source": [
        "x = tf.Variable(3,name=\"x\")\n",
        "y = tf.Variable(4,name=\"y\")"
      ],
      "execution_count": 0,
      "outputs": []
    },
    {
      "cell_type": "code",
      "metadata": {
        "id": "AMXjgouW-V42",
        "colab_type": "code",
        "outputId": "2594c3a6-b318-468b-9169-bd00b107d9d4",
        "colab": {
          "base_uri": "https://localhost:8080/",
          "height": 34
        }
      },
      "source": [
        "print(x.value())"
      ],
      "execution_count": 4,
      "outputs": [
        {
          "output_type": "stream",
          "text": [
            "Tensor(\"x/read:0\", shape=(), dtype=int32)\n"
          ],
          "name": "stdout"
        }
      ]
    },
    {
      "cell_type": "code",
      "metadata": {
        "id": "OtjophK0-alM",
        "colab_type": "code",
        "colab": {}
      },
      "source": [
        "f = x*x*y + y + 2 "
      ],
      "execution_count": 0,
      "outputs": []
    },
    {
      "cell_type": "code",
      "metadata": {
        "id": "-KeG3qDK-5h2",
        "colab_type": "code",
        "outputId": "98aff7d8-1da3-46c3-937e-2a3a205d37cc",
        "colab": {
          "base_uri": "https://localhost:8080/",
          "height": 51
        }
      },
      "source": [
        "init = tf.global_variables_initializer()\n",
        "with tf.Session() as sess:\n",
        "  init.run()\n",
        "  print(x)\n",
        "  result = f.eval()\n",
        "  print(result)"
      ],
      "execution_count": 6,
      "outputs": [
        {
          "output_type": "stream",
          "text": [
            "<tf.Variable 'x:0' shape=() dtype=int32_ref>\n",
            "42\n"
          ],
          "name": "stdout"
        }
      ]
    },
    {
      "cell_type": "markdown",
      "metadata": {
        "id": "nacTeXUX8RKW",
        "colab_type": "text"
      },
      "source": [
        "#Linear Regression with Tensorflow"
      ]
    },
    {
      "cell_type": "code",
      "metadata": {
        "id": "4hYhQV1D_JtQ",
        "colab_type": "code",
        "colab": {}
      },
      "source": [
        "from sklearn.datasets import fetch_california_housing"
      ],
      "execution_count": 0,
      "outputs": []
    },
    {
      "cell_type": "code",
      "metadata": {
        "id": "JojMjdA2At0K",
        "colab_type": "code",
        "outputId": "bd83e408-c5b3-405b-ef45-789440858f66",
        "colab": {
          "base_uri": "https://localhost:8080/",
          "height": 34
        }
      },
      "source": [
        "housing = fetch_california_housing()"
      ],
      "execution_count": 8,
      "outputs": [
        {
          "output_type": "stream",
          "text": [
            "Downloading Cal. housing from https://ndownloader.figshare.com/files/5976036 to /root/scikit_learn_data\n"
          ],
          "name": "stderr"
        }
      ]
    },
    {
      "cell_type": "code",
      "metadata": {
        "id": "5NpcPcAI8fSs",
        "colab_type": "code",
        "outputId": "1c71c794-6e40-46fd-e619-ce9d17060bfe",
        "colab": {
          "base_uri": "https://localhost:8080/",
          "height": 34
        }
      },
      "source": [
        "m,n = housing.data.shape\n",
        "print(m,n)"
      ],
      "execution_count": 9,
      "outputs": [
        {
          "output_type": "stream",
          "text": [
            "20640 8\n"
          ],
          "name": "stdout"
        }
      ]
    },
    {
      "cell_type": "code",
      "metadata": {
        "id": "2ZTKHkvj8k4X",
        "colab_type": "code",
        "outputId": "c748c179-a1c0-44b5-83ff-8ebf2fe82475",
        "colab": {
          "base_uri": "https://localhost:8080/",
          "height": 238
        }
      },
      "source": [
        "housing_data_plus_bias = np.c_[np.ones((m,1)),housing.data]\n",
        "print(housing_data_plus_bias)"
      ],
      "execution_count": 10,
      "outputs": [
        {
          "output_type": "stream",
          "text": [
            "[[   1.            8.3252       41.         ...    2.55555556\n",
            "    37.88       -122.23      ]\n",
            " [   1.            8.3014       21.         ...    2.10984183\n",
            "    37.86       -122.22      ]\n",
            " [   1.            7.2574       52.         ...    2.80225989\n",
            "    37.85       -122.24      ]\n",
            " ...\n",
            " [   1.            1.7          17.         ...    2.3256351\n",
            "    39.43       -121.22      ]\n",
            " [   1.            1.8672       18.         ...    2.12320917\n",
            "    39.43       -121.32      ]\n",
            " [   1.            2.3886       16.         ...    2.61698113\n",
            "    39.37       -121.24      ]]\n"
          ],
          "name": "stdout"
        }
      ]
    },
    {
      "cell_type": "code",
      "metadata": {
        "id": "w85VLcgE8wZw",
        "colab_type": "code",
        "colab": {}
      },
      "source": [
        "X = tf.constant(housing_data_plus_bias,dtype=tf.float32,name=\"X\")\n",
        "Y = tf.constant(housing.target.reshape(-1,1),dtype=tf.float32,name=\"Y\")\n",
        "XT = tf.transpose(X)\n",
        "theta = tf.matmul(tf.matmul(tf.matrix_inverse(tf.matmul(XT,X)),XT),Y)"
      ],
      "execution_count": 0,
      "outputs": []
    },
    {
      "cell_type": "code",
      "metadata": {
        "id": "KhVsKvBuRoFj",
        "colab_type": "code",
        "colab": {}
      },
      "source": [
        "saver = tf.train.Saver()\n",
        "from google.colab import drive\n",
        "drive.mount('/content/gdrive/')\n"
      ],
      "execution_count": 0,
      "outputs": []
    },
    {
      "cell_type": "code",
      "metadata": {
        "id": "ecnMjMZt9Q18",
        "colab_type": "code",
        "colab": {}
      },
      "source": [
        "with tf.Session() as sess:\n",
        "  theta_value = theta.eval()\n",
        "  print(theta_value)\n",
        "  save_path = saver.save(sess, \"/final_model.ckpt\")"
      ],
      "execution_count": 0,
      "outputs": []
    },
    {
      "cell_type": "markdown",
      "metadata": {
        "id": "ZUF3f-xBCS_z",
        "colab_type": "text"
      },
      "source": [
        "#stochestic Gradient Descent "
      ]
    },
    {
      "cell_type": "code",
      "metadata": {
        "id": "GBSMndSP-Gg1",
        "colab_type": "code",
        "colab": {}
      },
      "source": [
        "from sklearn.datasets import fetch_20newsgroups"
      ],
      "execution_count": 0,
      "outputs": []
    },
    {
      "cell_type": "code",
      "metadata": {
        "id": "ZKIYYjKJjG7T",
        "colab_type": "code",
        "colab": {}
      },
      "source": [
        "data  = fetch_20newsgroups()"
      ],
      "execution_count": 0,
      "outputs": []
    },
    {
      "cell_type": "code",
      "metadata": {
        "id": "rotg9W1HsTeu",
        "colab_type": "code",
        "colab": {}
      },
      "source": [
        ""
      ],
      "execution_count": 0,
      "outputs": []
    },
    {
      "cell_type": "code",
      "metadata": {
        "id": "d9vz8Xxy4T_y",
        "colab_type": "code",
        "colab": {}
      },
      "source": [
        "def generate_dataset():\n",
        " x_batch = np.linspace(0, 2, 100)\n",
        " y_batch = 1.5 * x_batch + np.random.randn(*x_batch.shape) * 0.2 + 0.5\n",
        " return x_batch, y_batch"
      ],
      "execution_count": 0,
      "outputs": []
    },
    {
      "cell_type": "code",
      "metadata": {
        "id": "tWcaT-DS4A5-",
        "colab_type": "code",
        "colab": {}
      },
      "source": [
        "def linear_regression():\n",
        "  x = tf.placeholder(tf.float32, shape=(None, ), name='x')\n",
        "  y = tf.placeholder(tf.float32, shape=(None, ), name='y')\n",
        "\n",
        "  with tf.variable_scope('lreg') as scope:\n",
        "    w = tf.Variable(np.random.normal(), name='W')\n",
        "    b = tf.Variable(np.random.normal(), name='b')\n",
        "\t\t\n",
        "    y_pred = tf.add(tf.multiply(w, x), b)\n",
        "\n",
        "    loss = tf.reduce_mean(tf.square(y_pred - y))\n",
        "\n",
        "  return x, y, y_pred, loss"
      ],
      "execution_count": 0,
      "outputs": []
    },
    {
      "cell_type": "code",
      "metadata": {
        "id": "x4aDLulW4Bme",
        "colab_type": "code",
        "colab": {}
      },
      "source": [
        "def run():\n",
        "  x_batch, y_batch = generate_dataset()\n",
        "  x, y, y_pred, loss = linear_regression()\n",
        "\n",
        "  optimizer = tf.train.GradientDescentOptimizer(0.1)\n",
        "  train_op = optimizer.minimize(loss)\n",
        "\n",
        "  with tf.Session() as session:\n",
        "    session.run(tf.global_variables_initializer())\n",
        "    feed_dict = {x: x_batch, y: y_batch}\n",
        "\t\t\n",
        "    for i in range(300):\n",
        "      session.run(train_op, feed_dict)\n",
        "      print(i, \"loss:\", loss.eval(feed_dict))\n",
        "\n",
        "    print('Predicting')\n",
        "    y_pred_batch = session.run(y_pred, {x : x_batch})\n",
        "\n",
        "  plt.scatter(x_batch, y_batch)\n",
        "  plt.plot(x_batch, y_pred_batch, color='red')\n",
        "  plt.xlim(0, 2)\n",
        "  plt.ylim(0, 2)\n",
        "  plt.savefig('plot.png')\n"
      ],
      "execution_count": 0,
      "outputs": []
    },
    {
      "cell_type": "code",
      "metadata": {
        "id": "KgByvIoT4L7f",
        "colab_type": "code",
        "colab": {}
      },
      "source": [
        "run()"
      ],
      "execution_count": 0,
      "outputs": []
    },
    {
      "cell_type": "code",
      "metadata": {
        "id": "pDGF6i-V4NLu",
        "colab_type": "code",
        "colab": {}
      },
      "source": [
        ""
      ],
      "execution_count": 0,
      "outputs": []
    },
    {
      "cell_type": "code",
      "metadata": {
        "id": "300QZ52C7Inx",
        "colab_type": "code",
        "colab": {}
      },
      "source": [
        "\n",
        "# Import MNIST data\n",
        "from tensorflow.examples.tutorials.mnist import input_data\n",
        "mnist = input_data.read_data_sets(\"/tmp/data/\", one_hot=True)\n",
        "\n",
        "# Parameters\n",
        "learning_rate = 0.01\n",
        "training_epochs = 25\n",
        "batch_size = 100\n",
        "display_step = 1\n",
        "\n",
        "# tf Graph Input\n",
        "x = tf.placeholder(tf.float32, [None, 784]) # mnist data image of shape 28*28=784\n",
        "y = tf.placeholder(tf.float32, [None, 10]) # 0-9 digits recognition => 10 classes\n",
        "\n",
        "# Set model weights\n",
        "W = tf.Variable(tf.zeros([784, 10]))\n",
        "b = tf.Variable(tf.zeros([10]))\n",
        "\n",
        "# Construct model\n",
        "pred = tf.nn.softmax(tf.matmul(x, W) + b) # Softmax\n",
        "\n",
        "# Minimize error using cross entropy\n",
        "cost = tf.reduce_mean(-tf.reduce_sum(y*tf.log(pred), reduction_indices=1))\n",
        "# Gradient Descent\n",
        "optimizer = tf.train.GradientDescentOptimizer(learning_rate).minimize(cost)\n",
        "\n",
        "# Initialize the variables (i.e. assign their default value)\n",
        "init = tf.global_variables_initializer()\n",
        "\n",
        "# Start training\n",
        "with tf.Session() as sess:\n",
        "\n",
        "    # Run the initializer\n",
        "    sess.run(init)\n",
        "\n",
        "    # Training cycle\n",
        "    for epoch in range(training_epochs):\n",
        "        avg_cost = 0.\n",
        "        total_batch = int(mnist.train.num_examples/batch_size)\n",
        "        # Loop over all batches\n",
        "        for i in range(total_batch):\n",
        "            batch_xs, batch_ys = mnist.train.next_batch(batch_size)\n",
        "            # Run optimization op (backprop) and cost op (to get loss value)\n",
        "            _, c = sess.run([optimizer, cost], feed_dict={x: batch_xs,\n",
        "                                                          y: batch_ys})\n",
        "            # Compute average loss\n",
        "            avg_cost += c / total_batch\n",
        "        # Display logs per epoch step\n",
        "        if (epoch+1) % display_step == 0:\n",
        "            print(\"Epoch:\", '%04d' % (epoch+1), \"cost=\", \"{:.9f}\".format(avg_cost))\n",
        "\n",
        "    print(\"Optimization Finished!\")\n",
        "\n",
        "    # Test model\n",
        "    correct_prediction = tf.equal(tf.argmax(pred, 1), tf.argmax(y, 1))\n",
        "    # Calculate accuracy\n",
        "    accuracy = tf.reduce_mean(tf.cast(correct_prediction, tf.float32))\n",
        "    print(\"Accuracy:\", accuracy.eval({x: mnist.test.images, y: mnist.test.labels}))"
      ],
      "execution_count": 0,
      "outputs": []
    },
    {
      "cell_type": "code",
      "metadata": {
        "id": "89wefuqV7JZ9",
        "colab_type": "code",
        "colab": {}
      },
      "source": [
        ""
      ],
      "execution_count": 0,
      "outputs": []
    }
  ]
}