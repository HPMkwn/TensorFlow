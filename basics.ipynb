{
  "nbformat": 4,
  "nbformat_minor": 0,
  "metadata": {
    "colab": {
      "name": "basics.ipynb",
      "provenance": [],
      "include_colab_link": true
    },
    "kernelspec": {
      "name": "python3",
      "display_name": "Python 3"
    }
  },
  "cells": [
    {
      "cell_type": "markdown",
      "metadata": {
        "id": "view-in-github",
        "colab_type": "text"
      },
      "source": [
        "<a href=\"https://colab.research.google.com/github/harrymkwn/TensorFlow/blob/master/basics.ipynb\" target=\"_parent\"><img src=\"https://colab.research.google.com/assets/colab-badge.svg\" alt=\"Open In Colab\"/></a>"
      ]
    },
    {
      "cell_type": "code",
      "metadata": {
        "id": "ta7LNhVjBhrK",
        "colab_type": "code",
        "colab": {}
      },
      "source": [
        "import numpy as np\n",
        "import matplotlib.pyplot as plt\n",
        "import tensorflow.compat.v1 as tf"
      ],
      "execution_count": 0,
      "outputs": []
    },
    {
      "cell_type": "markdown",
      "metadata": {
        "id": "SI1r75s7CfAa",
        "colab_type": "text"
      },
      "source": [
        "#Session"
      ]
    },
    {
      "cell_type": "code",
      "metadata": {
        "id": "L7CBZ0_YCJtp",
        "colab_type": "code",
        "colab": {}
      },
      "source": [
        "m1 = tf.constant([[2,2]])"
      ],
      "execution_count": 0,
      "outputs": []
    },
    {
      "cell_type": "code",
      "metadata": {
        "id": "InRskeUoCnA0",
        "colab_type": "code",
        "colab": {}
      },
      "source": [
        "m2 = tf.constant([[3],[3]])"
      ],
      "execution_count": 0,
      "outputs": []
    },
    {
      "cell_type": "code",
      "metadata": {
        "id": "-ruNim-mC47R",
        "colab_type": "code",
        "colab": {}
      },
      "source": [
        "dot_operation = tf.matmul(m1,m2)\n"
      ],
      "execution_count": 0,
      "outputs": []
    },
    {
      "cell_type": "code",
      "metadata": {
        "id": "TezdffJSDbeB",
        "colab_type": "code",
        "colab": {
          "base_uri": "https://localhost:8080/",
          "height": 34
        },
        "outputId": "3c1e8e10-e224-456a-d75c-dcc21bbecb19"
      },
      "source": [
        "print(dot_operation)"
      ],
      "execution_count": 5,
      "outputs": [
        {
          "output_type": "stream",
          "text": [
            "Tensor(\"MatMul:0\", shape=(1, 1), dtype=int32)\n"
          ],
          "name": "stdout"
        }
      ]
    },
    {
      "cell_type": "markdown",
      "metadata": {
        "id": "QihKM0dJDmFb",
        "colab_type": "text"
      },
      "source": [
        "##method1 Session"
      ]
    },
    {
      "cell_type": "code",
      "metadata": {
        "id": "-G2L0r5KDenE",
        "colab_type": "code",
        "colab": {
          "base_uri": "https://localhost:8080/",
          "height": 34
        },
        "outputId": "1dc69c08-14fc-4125-db36-f7bb719a0cc1"
      },
      "source": [
        "sess = tf.Session()\n",
        "value = sess.run(dot_operation)\n",
        "print(value)\n",
        "sess.close()"
      ],
      "execution_count": 6,
      "outputs": [
        {
          "output_type": "stream",
          "text": [
            "[[12]]\n"
          ],
          "name": "stdout"
        }
      ]
    },
    {
      "cell_type": "markdown",
      "metadata": {
        "id": "9vwibsmcD4fC",
        "colab_type": "text"
      },
      "source": [
        "##method 2 Session"
      ]
    },
    {
      "cell_type": "code",
      "metadata": {
        "id": "B3yjFVMoDsQ6",
        "colab_type": "code",
        "colab": {
          "base_uri": "https://localhost:8080/",
          "height": 34
        },
        "outputId": "7df7c616-0b84-400b-8d25-071feed631a1"
      },
      "source": [
        "with tf.Session() as sess:\n",
        "  result = sess.run(dot_operation)\n",
        "  print(result)"
      ],
      "execution_count": 7,
      "outputs": [
        {
          "output_type": "stream",
          "text": [
            "[[12]]\n"
          ],
          "name": "stdout"
        }
      ]
    },
    {
      "cell_type": "code",
      "metadata": {
        "id": "tAe9M0qzEJ55",
        "colab_type": "code",
        "colab": {}
      },
      "source": [
        ""
      ],
      "execution_count": 0,
      "outputs": []
    },
    {
      "cell_type": "markdown",
      "metadata": {
        "id": "1Kri92thHRiE",
        "colab_type": "text"
      },
      "source": [
        "#Placeholder"
      ]
    },
    {
      "cell_type": "code",
      "metadata": {
        "id": "p9_AHQa4HTii",
        "colab_type": "code",
        "colab": {}
      },
      "source": [
        "x1 = tf.placeholder(dtype=tf.float32,shape=None)\n",
        "x2 = tf.placeholder(dtype=tf.float32,shape=None)\n",
        "\n",
        "z1 = x1 + x2"
      ],
      "execution_count": 0,
      "outputs": []
    },
    {
      "cell_type": "code",
      "metadata": {
        "id": "QUwafVsfH4Oi",
        "colab_type": "code",
        "colab": {}
      },
      "source": [
        "x3 = tf.placeholder(dtype=tf.float32,shape=[3,2])\n",
        "x4 = tf.placeholder(dtype=tf.float32,shape=[2,3])\n",
        "\n",
        "z2 = tf.matmul(x3,x4)"
      ],
      "execution_count": 0,
      "outputs": []
    },
    {
      "cell_type": "code",
      "metadata": {
        "id": "PFlZrGYCIINS",
        "colab_type": "code",
        "colab": {
          "base_uri": "https://localhost:8080/",
          "height": 85
        },
        "outputId": "0db227f6-d436-4de5-a698-19a9a62e1ac7"
      },
      "source": [
        "with tf.Session() as sess:\n",
        "  z1_result = sess.run(z1,feed_dict={x1 : 5, x2 : 4})\n",
        "  print(z1_result)\n",
        "\n",
        "  z1_result , z2_result = sess.run([z1,z2],feed_dict={x1 : 5 , x2: 4 , x3 : [[1,2],[3,4],[5,6]] , x4 : [[1,2,3],[4,5,6]]})\n",
        "  print(z1_result,z2_result)"
      ],
      "execution_count": 10,
      "outputs": [
        {
          "output_type": "stream",
          "text": [
            "9.0\n",
            "9.0 [[ 9. 12. 15.]\n",
            " [19. 26. 33.]\n",
            " [29. 40. 51.]]\n"
          ],
          "name": "stdout"
        }
      ]
    },
    {
      "cell_type": "markdown",
      "metadata": {
        "id": "5NAKHPUFORju",
        "colab_type": "text"
      },
      "source": [
        "#Constant"
      ]
    },
    {
      "cell_type": "code",
      "metadata": {
        "id": "l2ND1ZgwMEie",
        "colab_type": "code",
        "colab": {}
      },
      "source": [
        "var = tf.Variable(0)"
      ],
      "execution_count": 0,
      "outputs": []
    },
    {
      "cell_type": "code",
      "metadata": {
        "id": "pxAfpkl4PK7w",
        "colab_type": "code",
        "colab": {}
      },
      "source": [
        "add_op = tf.add(var,1)\n",
        "update = tf.assign(var,add_op)\n",
        "\n",
        "init = tf.global_variables_initializer()"
      ],
      "execution_count": 0,
      "outputs": []
    },
    {
      "cell_type": "code",
      "metadata": {
        "id": "lQ6I0NWqPdic",
        "colab_type": "code",
        "colab": {
          "base_uri": "https://localhost:8080/",
          "height": 68
        },
        "outputId": "920c4bd3-019f-417c-cd26-d81536a19a27"
      },
      "source": [
        "with tf.Session() as sess:\n",
        "  sess.run(init)\n",
        "  for _ in range(3):\n",
        "    sess.run(update)\n",
        "    print(sess.run(var))  "
      ],
      "execution_count": 13,
      "outputs": [
        {
          "output_type": "stream",
          "text": [
            "1\n",
            "2\n",
            "3\n"
          ],
          "name": "stdout"
        }
      ]
    },
    {
      "cell_type": "code",
      "metadata": {
        "id": "aLUIVU9bP2ri",
        "colab_type": "code",
        "colab": {}
      },
      "source": [
        ""
      ],
      "execution_count": 0,
      "outputs": []
    },
    {
      "cell_type": "markdown",
      "metadata": {
        "id": "NeyRHcgMQK6f",
        "colab_type": "text"
      },
      "source": [
        "#Activation"
      ]
    },
    {
      "cell_type": "code",
      "metadata": {
        "id": "BGTxqBILQMl9",
        "colab_type": "code",
        "colab": {}
      },
      "source": [
        "x = np.linspace(-5,5,2000)"
      ],
      "execution_count": 0,
      "outputs": []
    },
    {
      "cell_type": "code",
      "metadata": {
        "id": "69-CBrfuQZx6",
        "colab_type": "code",
        "colab": {}
      },
      "source": [
        "y_relu = tf.nn.relu(x)\n",
        "y_sigmoid = tf.nn.sigmoid(x)\n",
        "y_tanh = tf.nn.tanh(x)\n",
        "y_softplus = tf.nn.softplus(x)"
      ],
      "execution_count": 0,
      "outputs": []
    },
    {
      "cell_type": "code",
      "metadata": {
        "id": "Irii9QfSQhWR",
        "colab_type": "code",
        "colab": {}
      },
      "source": [
        "with tf.Session() as sess:\n",
        "  y_relu,y_sigmoid,y_tanh,y_softplus = sess.run([y_relu,y_sigmoid,y_tanh,y_softplus])"
      ],
      "execution_count": 0,
      "outputs": []
    },
    {
      "cell_type": "code",
      "metadata": {
        "id": "IhmeeqebRCbs",
        "colab_type": "code",
        "colab": {
          "base_uri": "https://localhost:8080/",
          "height": 51
        },
        "outputId": "cbb57fdf-6fec-4215-aee3-88ce3cd7ff78"
      },
      "source": [
        "plt.figure(1,figsize=(8,6))"
      ],
      "execution_count": 17,
      "outputs": [
        {
          "output_type": "execute_result",
          "data": {
            "text/plain": [
              "<Figure size 576x432 with 0 Axes>"
            ]
          },
          "metadata": {
            "tags": []
          },
          "execution_count": 17
        },
        {
          "output_type": "display_data",
          "data": {
            "text/plain": [
              "<Figure size 576x432 with 0 Axes>"
            ]
          },
          "metadata": {
            "tags": []
          }
        }
      ]
    },
    {
      "cell_type": "code",
      "metadata": {
        "id": "Z_1O7JGQRI_W",
        "colab_type": "code",
        "colab": {
          "base_uri": "https://localhost:8080/",
          "height": 286
        },
        "outputId": "3764b6a7-bcd1-4403-ef2f-a94a7b9d48a2"
      },
      "source": [
        "plt.subplot(221)\n",
        "plt.plot(x,y_relu,c='red',label='relu')\n",
        "plt.ylim((0,5))\n",
        "plt.legend(loc='best')\n",
        "\n",
        "plt.subplot(222)\n",
        "plt.plot(x,y_sigmoid,c='red',label='sigmoid')\n",
        "plt.ylim((0,1))\n",
        "plt.legend(loc='best')\n",
        "\n",
        "plt.subplot(223)\n",
        "plt.plot(x,y_tanh,c='red',label='tanh')\n",
        "plt.ylim((-1,1))\n",
        "plt.legend(loc='best')\n",
        "\n",
        "plt.subplot(224)\n",
        "plt.plot(x,y_softplus,c='r',label='softplus')\n",
        "plt.ylim((0,5))\n",
        "plt.legend(loc='best')"
      ],
      "execution_count": 18,
      "outputs": [
        {
          "output_type": "execute_result",
          "data": {
            "text/plain": [
              "<matplotlib.legend.Legend at 0x7fdc13f064a8>"
            ]
          },
          "metadata": {
            "tags": []
          },
          "execution_count": 18
        },
        {
          "output_type": "display_data",
          "data": {
            "image/png": "[encoded data removed]",
            "text/plain": [
              "<Figure size 432x288 with 4 Axes>"
            ]
          },
          "metadata": {
            "tags": []
          }
        }
      ]
    },
    {
      "cell_type": "code",
      "metadata": {
        "id": "4K_HhWFNSNUd",
        "colab_type": "code",
        "colab": {}
      },
      "source": [
        ""
      ],
      "execution_count": 0,
      "outputs": []
    }
  ]
}